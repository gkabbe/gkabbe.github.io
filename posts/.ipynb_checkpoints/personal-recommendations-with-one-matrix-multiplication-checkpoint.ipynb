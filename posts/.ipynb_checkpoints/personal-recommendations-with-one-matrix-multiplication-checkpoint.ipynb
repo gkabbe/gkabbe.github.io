{
 "cells": [
  {
   "cell_type": "markdown",
   "metadata": {},
   "source": [
    "# Personal Recommendations with one single Matrix Multiplication"
   ]
  },
  {
   "cell_type": "markdown",
   "metadata": {},
   "source": [
    "This blog post shows a simple example of creating a simple but effective personal recommendation engine using the method described in the paper [Embarrassingly Shallow Autoencoders for Sparse Data](https://arxiv.org/pdf/1905.03375.pdf) from Harald Steck."
   ]
  },
  {
   "cell_type": "markdown",
   "metadata": {},
   "source": [
    "## The challenge of meaningful automated recommendations\n",
    "\n",
    "Finding good recommendations for your customers in an automated way is not an easy task.\n",
    "No matter whether you try to sell movies, songs or fashion, the idea is always the same: finding meaningful products which match your customers' demands.\n",
    "While a \"human recommender\" may simply ask the customer for their preferences and, based on their own experience, will pick a selection of suitable products, a computer lacks all that intuition.\n",
    "\n",
    "Therefore, different strategies have been developed in order to help computers gain a deeper understanding of the customer-product relationship.\n",
    "\n",
    "The method described here today uses an autoencoder approach: given a vector of products a customer bought, it will try to infer relevant products by filling in the empty elements in the product vector."
   ]
  },
  {
   "cell_type": "markdown",
   "metadata": {},
   "source": [
    "## Autoencoders\n",
    "\n",
    "The task of an autoencoder is straightforward: given some input vector $x$, the output $y$ of the autoencoder should be identical to $x$.\n",
    "This seemingly trivial task is made more complicated, however, by adding restrictions on the internal processing steps of the autoencoder.\n",
    "\n",
    "A typical autoencoder might be built like a neural network, consisting of an input layer, a hidden layer, and an output layer. Here the restriction would be that the size of the hidden layer is smaller than that of the input layer, and therefore the autoencoder is forced to learn a more efficient representation of the data it is trained on.\n",
    "\n",
    "## Shallow Autoencoders\n",
    "\n",
    "In our case, the autoencoder is actually much more simple, as it only consists of a single matrix $B \\in \\mathbb{R} ^{\\left|I\\right| x \\left|I\\right|}$, i.e. this matrix has as many rows/columns as there are unique items our customers might buy.\n",
    "\n",
    "Given a customer-item matrix $X$, matrix multiplication with $B$ should hopefully return a very similar matrix.\n",
    "\n",
    "In order to find meaningful parameters for $B$, we define a quadratic loss:\n",
    "\n",
    "$$ \\min_B ||X - XB ||^2 + \\lambda ||B||^2 $$\n",
    "\n",
    "Additionally, a regularization term is added to the loss in order keep the learned parameters small.\n",
    "What we are still lacking is a restriction which forces our autoencoder to learn something meaningful (in the current form the trivial solution would be simply an identity matrix which would not give us any new insight).\n",
    "The authors have the simple but ingenious idea to add a constraint that all diagonal elements of $B$ must be zero. What this means is that our autoencoder now has to learn whether item $i$ is present in the current basket while only given information about the presence or absence of all items except $i$.\n",
    "\n",
    "The detailed solution procedure involves minimizing the loss function using Lagrangian multipliers to also consider the additional constraints. It can be found in the paper, so I will not discuss this further.\n",
    "Instead, let's write some Python code to see how well it actually works on some data!\n"
   ]
  },
  {
   "cell_type": "markdown",
   "metadata": {},
   "source": [
    "## Making some Movie Recommendations\n",
    "\n",
    "Let's start by downloading some data of movie ratings.\n",
    "\n",
    "In order to be able to use the code you need to install the following python libraries\n",
    "\n",
    "```bash\n",
    "pip install numpy pandas scipy tqdm\n",
    "```"
   ]
  },
  {
   "cell_type": "code",
   "execution_count": 1,
   "metadata": {},
   "outputs": [],
   "source": [
    "import numpy as np\n",
    "import pandas as pd\n",
    "from scipy.sparse import lil_matrix\n",
    "from scipy import linalg\n",
    "from tqdm import tqdm_notebook as tqdm"
   ]
  },
  {
   "cell_type": "markdown",
   "metadata": {},
   "source": [
    "If the next three lines don't work for you, you can also just download the file using your browser and unzip it manually."
   ]
  },
  {
   "cell_type": "code",
   "execution_count": 2,
   "metadata": {},
   "outputs": [],
   "source": [
    "movielens_url = \"http://files.grouplens.org/datasets/movielens/ml-20m.zip\""
   ]
  },
  {
   "cell_type": "code",
   "execution_count": null,
   "metadata": {},
   "outputs": [],
   "source": [
    "!wget {movielens_url}"
   ]
  },
  {
   "cell_type": "code",
   "execution_count": null,
   "metadata": {},
   "outputs": [],
   "source": [
    "!unzip ml-20m.zip"
   ]
  },
  {
   "cell_type": "markdown",
   "metadata": {},
   "source": [
    "Next, we need to read the movie list and the list of ratings into pandas dataframes:"
   ]
  },
  {
   "cell_type": "code",
   "execution_count": 3,
   "metadata": {},
   "outputs": [],
   "source": [
    "movies = pd.read_csv(\"ml-20m/movies.csv\")\n",
    "ratings = pd.read_csv(\"ml-20m/ratings.csv\")"
   ]
  },
  {
   "cell_type": "markdown",
   "metadata": {},
   "source": [
    "Next, we write a helper function which creates a sparse customer item matrix from the ratings dataframe"
   ]
  },
  {
   "cell_type": "code",
   "execution_count": 4,
   "metadata": {},
   "outputs": [],
   "source": [
    "# create a mapping between the movie/user id and \n",
    "# its index in the user item matrix\n",
    "def create_mapping(unique_vals):\n",
    "    mapping = {}\n",
    "    for i, id_ in enumerate(unique_vals):\n",
    "        mapping[id_] = i\n",
    "    return mapping\n",
    "\n",
    "\n",
    "def create_user_item_matrix(ratings, user_mapping, item_mapping):\n",
    "    ui_mat = lil_matrix((max(user_mapping.values()) + 1, max(item_mapping.values()) + 1))\n",
    "    for tup in tqdm(ratings.itertuples(), total=ratings.shape[0]):\n",
    "        ui_mat[user_mapping[tup.userId], item_mapping[tup.movieId]] = 1\n",
    "    return ui_mat.tocsr()"
   ]
  },
  {
   "cell_type": "markdown",
   "metadata": {},
   "source": [
    "Creating the matrix should take a few minutes"
   ]
  },
  {
   "cell_type": "code",
   "execution_count": 5,
   "metadata": {},
   "outputs": [
    {
     "data": {
      "application/vnd.jupyter.widget-view+json": {
       "model_id": "beb1c85e1a37471ba214e0d9549e2b2d",
       "version_major": 2,
       "version_minor": 0
      },
      "text/plain": [
       "HBox(children=(IntProgress(value=0, max=20000263), HTML(value='')))"
      ]
     },
     "metadata": {},
     "output_type": "display_data"
    },
    {
     "name": "stdout",
     "output_type": "stream",
     "text": [
      "\n"
     ]
    }
   ],
   "source": [
    "user_mapping = create_mapping(ratings.userId.unique())\n",
    "item_mapping = create_mapping(movies.movieId.unique())\n",
    "\n",
    "ui_mat = create_user_item_matrix(ratings, user_mapping, item_mapping)"
   ]
  },
  {
   "cell_type": "markdown",
   "metadata": {},
   "source": [
    "The next few lines are the actual optimization procedure.\n",
    "If we ignore the print lines, the whole algorithm needs only 6 lines of code!"
   ]
  },
  {
   "cell_type": "code",
   "execution_count": 6,
   "metadata": {},
   "outputs": [],
   "source": [
    "def create_autoencoder(ui_mat, lambda_):\n",
    "    print(\"Create G\")\n",
    "    G = (ui_mat.T @ ui_mat).toarray()\n",
    "    diag_indices = np.diag_indices_from(G)\n",
    "    G[diag_indices] += lambda_\n",
    "    print(\"Invert G\")\n",
    "    # In order to save some memory, we overwrite our G matrix when \n",
    "    # calculating the inverse\n",
    "    B = linalg.inv(G, overwrite_a=True)\n",
    "    B /= (-np.diag(B))\n",
    "    B[diag_indices] = 0\n",
    "    return B"
   ]
  },
  {
   "cell_type": "markdown",
   "metadata": {},
   "source": [
    "The whole procedure will take a few minutes. On my laptop with 8gb ram memory was sufficient.\n",
    "If you run into troubles, try and change the type of ui_mat from np.float32 to np.float16 and see if that helps"
   ]
  },
  {
   "cell_type": "code",
   "execution_count": 7,
   "metadata": {},
   "outputs": [
    {
     "name": "stdout",
     "output_type": "stream",
     "text": [
      "Create G\n",
      "Invert G\n"
     ]
    }
   ],
   "source": [
    "autoenc = create_autoencoder((ui_mat > 0).astype(np.float32), 500)"
   ]
  },
  {
   "cell_type": "markdown",
   "metadata": {},
   "source": [
    "In order to be able to user our small recommendation engine, we write another helper function which, given a movie id or list of movie ids returns movie ids of similar movies"
   ]
  },
  {
   "cell_type": "code",
   "execution_count": 38,
   "metadata": {},
   "outputs": [],
   "source": [
    "def recommend(movie_ids, item_mapping, N=10, filter_already_liked=False):\n",
    "    reverse_mapping = {v: k for k, v in item_mapping.items()}\n",
    "    if isinstance(movie_ids, int):\n",
    "        movie_ids = [movie_ids]\n",
    "    movie_ids = [item_mapping[id_] for id_ in movie_ids]\n",
    "    movievec = np.zeros(autoenc.shape[0], dtype=np.float32)\n",
    "    scores = np.zeros_like(movievec)\n",
    "    movievec[movie_ids] = 1\n",
    "    scores = movievec @ autoenc\n",
    "    #np.dot(movievec, autoenc, out=scores)\n",
    "    if filter_already_liked:\n",
    "        scores[movie_ids] = -100\n",
    "    indices = np.argsort(-scores)[:N]\n",
    "    return [reverse_mapping[idx] for idx in indices]"
   ]
  },
  {
   "cell_type": "markdown",
   "metadata": {},
   "source": [
    "Let's see what kind of movies there are"
   ]
  },
  {
   "cell_type": "code",
   "execution_count": 39,
   "metadata": {},
   "outputs": [
    {
     "data": {
      "text/html": [
       "<div>\n",
       "<style scoped>\n",
       "    .dataframe tbody tr th:only-of-type {\n",
       "        vertical-align: middle;\n",
       "    }\n",
       "\n",
       "    .dataframe tbody tr th {\n",
       "        vertical-align: top;\n",
       "    }\n",
       "\n",
       "    .dataframe thead th {\n",
       "        text-align: right;\n",
       "    }\n",
       "</style>\n",
       "<table border=\"1\" class=\"dataframe\">\n",
       "  <thead>\n",
       "    <tr style=\"text-align: right;\">\n",
       "      <th></th>\n",
       "      <th>movieId</th>\n",
       "      <th>title</th>\n",
       "      <th>genres</th>\n",
       "    </tr>\n",
       "  </thead>\n",
       "  <tbody>\n",
       "    <tr>\n",
       "      <th>14249</th>\n",
       "      <td>71442</td>\n",
       "      <td>Plaisir, Le (1952)</td>\n",
       "      <td>Comedy|Drama</td>\n",
       "    </tr>\n",
       "    <tr>\n",
       "      <th>8099</th>\n",
       "      <td>8782</td>\n",
       "      <td>Thunderbirds (2004)</td>\n",
       "      <td>Action|Adventure|Fantasy|Sci-Fi</td>\n",
       "    </tr>\n",
       "    <tr>\n",
       "      <th>11389</th>\n",
       "      <td>48696</td>\n",
       "      <td>Little Children (2006)</td>\n",
       "      <td>Drama|Romance</td>\n",
       "    </tr>\n",
       "    <tr>\n",
       "      <th>24420</th>\n",
       "      <td>115711</td>\n",
       "      <td>TINY: A Story About Living Small (2013)</td>\n",
       "      <td>Documentary</td>\n",
       "    </tr>\n",
       "    <tr>\n",
       "      <th>15250</th>\n",
       "      <td>77837</td>\n",
       "      <td>You Don't Know Jack (2010)</td>\n",
       "      <td>Drama</td>\n",
       "    </tr>\n",
       "    <tr>\n",
       "      <th>24588</th>\n",
       "      <td>116341</td>\n",
       "      <td>Dana Carvey: Squatting Monkeys Tell No Lies (2...</td>\n",
       "      <td>Comedy</td>\n",
       "    </tr>\n",
       "    <tr>\n",
       "      <th>6267</th>\n",
       "      <td>6373</td>\n",
       "      <td>Bruce Almighty (2003)</td>\n",
       "      <td>Comedy|Drama|Fantasy|Romance</td>\n",
       "    </tr>\n",
       "    <tr>\n",
       "      <th>22788</th>\n",
       "      <td>109019</td>\n",
       "      <td>Bewitched (Alter Ego) (1945)</td>\n",
       "      <td>Crime|Drama|Film-Noir|Thriller</td>\n",
       "    </tr>\n",
       "    <tr>\n",
       "      <th>26781</th>\n",
       "      <td>128723</td>\n",
       "      <td>James Dean (2001)</td>\n",
       "      <td>Drama</td>\n",
       "    </tr>\n",
       "    <tr>\n",
       "      <th>24274</th>\n",
       "      <td>115060</td>\n",
       "      <td>Haunted Castle, The (Hiroku kaibyô-den) (1969)</td>\n",
       "      <td>Horror</td>\n",
       "    </tr>\n",
       "    <tr>\n",
       "      <th>21313</th>\n",
       "      <td>103626</td>\n",
       "      <td>Senotaji (2013)</td>\n",
       "      <td>Comedy</td>\n",
       "    </tr>\n",
       "    <tr>\n",
       "      <th>7093</th>\n",
       "      <td>7205</td>\n",
       "      <td>Wind and the Lion, The (1975)</td>\n",
       "      <td>Adventure</td>\n",
       "    </tr>\n",
       "    <tr>\n",
       "      <th>3160</th>\n",
       "      <td>3247</td>\n",
       "      <td>Sister Act (1992)</td>\n",
       "      <td>Comedy|Crime</td>\n",
       "    </tr>\n",
       "    <tr>\n",
       "      <th>5465</th>\n",
       "      <td>5562</td>\n",
       "      <td>Snipes (2001)</td>\n",
       "      <td>Drama|Thriller</td>\n",
       "    </tr>\n",
       "    <tr>\n",
       "      <th>18378</th>\n",
       "      <td>91749</td>\n",
       "      <td>Sophie's Revenge (Fei chang wan mei) (2009)</td>\n",
       "      <td>Comedy|Romance</td>\n",
       "    </tr>\n",
       "    <tr>\n",
       "      <th>22160</th>\n",
       "      <td>106648</td>\n",
       "      <td>Guilty of Romance (Koi no tsumi) (2011)</td>\n",
       "      <td>Crime|Drama|Horror</td>\n",
       "    </tr>\n",
       "    <tr>\n",
       "      <th>11081</th>\n",
       "      <td>46062</td>\n",
       "      <td>High School Musical (2006)</td>\n",
       "      <td>Children|Comedy|Drama|Musical|Romance</td>\n",
       "    </tr>\n",
       "    <tr>\n",
       "      <th>1847</th>\n",
       "      <td>1931</td>\n",
       "      <td>Mutiny on the Bounty (1935)</td>\n",
       "      <td>Adventure|Drama</td>\n",
       "    </tr>\n",
       "    <tr>\n",
       "      <th>6521</th>\n",
       "      <td>6631</td>\n",
       "      <td>Man's Best Friend (1993)</td>\n",
       "      <td>Horror|Sci-Fi|Thriller</td>\n",
       "    </tr>\n",
       "    <tr>\n",
       "      <th>10231</th>\n",
       "      <td>34099</td>\n",
       "      <td>Julian Po (1997)</td>\n",
       "      <td>Comedy|Drama</td>\n",
       "    </tr>\n",
       "  </tbody>\n",
       "</table>\n",
       "</div>"
      ],
      "text/plain": [
       "       movieId                                              title  \\\n",
       "14249    71442                                 Plaisir, Le (1952)   \n",
       "8099      8782                                Thunderbirds (2004)   \n",
       "11389    48696                             Little Children (2006)   \n",
       "24420   115711            TINY: A Story About Living Small (2013)   \n",
       "15250    77837                         You Don't Know Jack (2010)   \n",
       "24588   116341  Dana Carvey: Squatting Monkeys Tell No Lies (2...   \n",
       "6267      6373                              Bruce Almighty (2003)   \n",
       "22788   109019                       Bewitched (Alter Ego) (1945)   \n",
       "26781   128723                                  James Dean (2001)   \n",
       "24274   115060     Haunted Castle, The (Hiroku kaibyô-den) (1969)   \n",
       "21313   103626                                    Senotaji (2013)   \n",
       "7093      7205                      Wind and the Lion, The (1975)   \n",
       "3160      3247                                  Sister Act (1992)   \n",
       "5465      5562                                      Snipes (2001)   \n",
       "18378    91749        Sophie's Revenge (Fei chang wan mei) (2009)   \n",
       "22160   106648           Guilty of Romance (Koi no tsumi) (2011)    \n",
       "11081    46062                         High School Musical (2006)   \n",
       "1847      1931                        Mutiny on the Bounty (1935)   \n",
       "6521      6631                           Man's Best Friend (1993)   \n",
       "10231    34099                                   Julian Po (1997)   \n",
       "\n",
       "                                      genres  \n",
       "14249                           Comedy|Drama  \n",
       "8099         Action|Adventure|Fantasy|Sci-Fi  \n",
       "11389                          Drama|Romance  \n",
       "24420                            Documentary  \n",
       "15250                                  Drama  \n",
       "24588                                 Comedy  \n",
       "6267            Comedy|Drama|Fantasy|Romance  \n",
       "22788         Crime|Drama|Film-Noir|Thriller  \n",
       "26781                                  Drama  \n",
       "24274                                 Horror  \n",
       "21313                                 Comedy  \n",
       "7093                               Adventure  \n",
       "3160                            Comedy|Crime  \n",
       "5465                          Drama|Thriller  \n",
       "18378                         Comedy|Romance  \n",
       "22160                     Crime|Drama|Horror  \n",
       "11081  Children|Comedy|Drama|Musical|Romance  \n",
       "1847                         Adventure|Drama  \n",
       "6521                  Horror|Sci-Fi|Thriller  \n",
       "10231                           Comedy|Drama  "
      ]
     },
     "execution_count": 39,
     "metadata": {},
     "output_type": "execute_result"
    }
   ],
   "source": [
    "movies.sample(20, random_state=3)"
   ]
  },
  {
   "cell_type": "markdown",
   "metadata": {},
   "source": [
    "Let's see which movies are similar to High School Musical with id 46062"
   ]
  },
  {
   "cell_type": "code",
   "execution_count": 41,
   "metadata": {},
   "outputs": [
    {
     "data": {
      "text/html": [
       "<div>\n",
       "<style scoped>\n",
       "    .dataframe tbody tr th:only-of-type {\n",
       "        vertical-align: middle;\n",
       "    }\n",
       "\n",
       "    .dataframe tbody tr th {\n",
       "        vertical-align: top;\n",
       "    }\n",
       "\n",
       "    .dataframe thead th {\n",
       "        text-align: right;\n",
       "    }\n",
       "</style>\n",
       "<table border=\"1\" class=\"dataframe\">\n",
       "  <thead>\n",
       "    <tr style=\"text-align: right;\">\n",
       "      <th></th>\n",
       "      <th>movieId</th>\n",
       "      <th>title</th>\n",
       "      <th>genres</th>\n",
       "    </tr>\n",
       "  </thead>\n",
       "  <tbody>\n",
       "    <tr>\n",
       "      <th>1596</th>\n",
       "      <td>1653</td>\n",
       "      <td>Gattaca (1997)</td>\n",
       "      <td>Drama|Sci-Fi|Thriller</td>\n",
       "    </tr>\n",
       "    <tr>\n",
       "      <th>8282</th>\n",
       "      <td>8965</td>\n",
       "      <td>Polar Express, The (2004)</td>\n",
       "      <td>Adventure|Animation|Children|Fantasy|IMAX</td>\n",
       "    </tr>\n",
       "    <tr>\n",
       "      <th>11216</th>\n",
       "      <td>47382</td>\n",
       "      <td>Step Up (2006)</td>\n",
       "      <td>Drama|Romance</td>\n",
       "    </tr>\n",
       "    <tr>\n",
       "      <th>11858</th>\n",
       "      <td>52975</td>\n",
       "      <td>Hairspray (2007)</td>\n",
       "      <td>Comedy|Drama|Musical</td>\n",
       "    </tr>\n",
       "    <tr>\n",
       "      <th>11971</th>\n",
       "      <td>53993</td>\n",
       "      <td>Evan Almighty (2007)</td>\n",
       "      <td>Comedy|Fantasy</td>\n",
       "    </tr>\n",
       "    <tr>\n",
       "      <th>12810</th>\n",
       "      <td>60397</td>\n",
       "      <td>Mamma Mia! (2008)</td>\n",
       "      <td>Comedy|Musical|Romance</td>\n",
       "    </tr>\n",
       "    <tr>\n",
       "      <th>12923</th>\n",
       "      <td>61123</td>\n",
       "      <td>High School Musical 2 (2007)</td>\n",
       "      <td>Comedy|Drama|Musical|Romance</td>\n",
       "    </tr>\n",
       "    <tr>\n",
       "      <th>13086</th>\n",
       "      <td>62912</td>\n",
       "      <td>High School Musical 3: Senior Year (2008)</td>\n",
       "      <td>Musical</td>\n",
       "    </tr>\n",
       "    <tr>\n",
       "      <th>13174</th>\n",
       "      <td>63992</td>\n",
       "      <td>Twilight (2008)</td>\n",
       "      <td>Drama|Fantasy|Romance|Thriller</td>\n",
       "    </tr>\n",
       "    <tr>\n",
       "      <th>14017</th>\n",
       "      <td>70334</td>\n",
       "      <td>Hannah Montana: The Movie (2009)</td>\n",
       "      <td>Comedy|Drama|Musical|Romance</td>\n",
       "    </tr>\n",
       "  </tbody>\n",
       "</table>\n",
       "</div>"
      ],
      "text/plain": [
       "       movieId                                      title  \\\n",
       "1596      1653                             Gattaca (1997)   \n",
       "8282      8965                  Polar Express, The (2004)   \n",
       "11216    47382                             Step Up (2006)   \n",
       "11858    52975                           Hairspray (2007)   \n",
       "11971    53993                       Evan Almighty (2007)   \n",
       "12810    60397                          Mamma Mia! (2008)   \n",
       "12923    61123               High School Musical 2 (2007)   \n",
       "13086    62912  High School Musical 3: Senior Year (2008)   \n",
       "13174    63992                            Twilight (2008)   \n",
       "14017    70334           Hannah Montana: The Movie (2009)   \n",
       "\n",
       "                                          genres  \n",
       "1596                       Drama|Sci-Fi|Thriller  \n",
       "8282   Adventure|Animation|Children|Fantasy|IMAX  \n",
       "11216                              Drama|Romance  \n",
       "11858                       Comedy|Drama|Musical  \n",
       "11971                             Comedy|Fantasy  \n",
       "12810                     Comedy|Musical|Romance  \n",
       "12923               Comedy|Drama|Musical|Romance  \n",
       "13086                                    Musical  \n",
       "13174             Drama|Fantasy|Romance|Thriller  \n",
       "14017               Comedy|Drama|Musical|Romance  "
      ]
     },
     "execution_count": 41,
     "metadata": {},
     "output_type": "execute_result"
    }
   ],
   "source": [
    "ids = recommend(46062, item_mapping)\n",
    "movies.query(\"movieId in @ids\")"
   ]
  },
  {
   "cell_type": "markdown",
   "metadata": {},
   "source": [
    "This looks like some reasonable recommendations."
   ]
  },
  {
   "cell_type": "code",
   "execution_count": null,
   "metadata": {},
   "outputs": [],
   "source": []
  }
 ],
 "metadata": {
  "kernelspec": {
   "display_name": "Python 3",
   "language": "python",
   "name": "python3"
  },
  "language_info": {
   "codemirror_mode": {
    "name": "ipython",
    "version": 3
   },
   "file_extension": ".py",
   "mimetype": "text/x-python",
   "name": "python",
   "nbconvert_exporter": "python",
   "pygments_lexer": "ipython3",
   "version": "3.7.1"
  },
  "nikola": {
   "category": "",
   "date": "2019-05-25 18:17:15 UTC+02:00",
   "description": "",
   "link": "",
   "slug": "personal-recommendations-with-one-matrix-multiplication",
   "tags": "",
   "title": "Personal recommendations with one matrix multiplication",
   "type": "text"
  }
 },
 "nbformat": 4,
 "nbformat_minor": 2
}
